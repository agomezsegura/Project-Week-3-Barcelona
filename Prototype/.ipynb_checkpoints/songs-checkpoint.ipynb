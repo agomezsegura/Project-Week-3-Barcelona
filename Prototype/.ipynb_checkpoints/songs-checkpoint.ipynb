{
 "cells": [
  {
   "cell_type": "markdown",
   "metadata": {},
   "source": [
    "# Song Recommender"
   ]
  },
  {
   "cell_type": "markdown",
   "metadata": {},
   "source": [
    "## Initializing the database"
   ]
  },
  {
   "cell_type": "code",
   "execution_count": 1,
   "metadata": {},
   "outputs": [],
   "source": [
    "from bs4 import BeautifulSoup\n",
    "import requests\n",
    "import pandas as pd\n",
    "import numpy as np\n",
    "import random\n",
    "import spotipy\n",
    "from spotipy.oauth2 import SpotifyClientCredentials"
   ]
  },
  {
   "cell_type": "markdown",
   "metadata": {},
   "source": [
    "### HotSongs database"
   ]
  },
  {
   "cell_type": "code",
   "execution_count": 2,
   "metadata": {},
   "outputs": [],
   "source": [
    "url = 'https://www.billboard.com/charts/hot-100'"
   ]
  },
  {
   "cell_type": "code",
   "execution_count": 3,
   "metadata": {},
   "outputs": [
    {
     "data": {
      "text/plain": [
       "<Response [200]>"
      ]
     },
     "execution_count": 3,
     "metadata": {},
     "output_type": "execute_result"
    }
   ],
   "source": [
    "response = requests.get(url)\n",
    "response"
   ]
  },
  {
   "cell_type": "code",
   "execution_count": 4,
   "metadata": {},
   "outputs": [],
   "source": [
    "songs = BeautifulSoup(response.content,'html.parser')"
   ]
  },
  {
   "cell_type": "code",
   "execution_count": 5,
   "metadata": {},
   "outputs": [],
   "source": [
    "titles = [title.get_text() for title in songs.select('span.chart-element__information__song')]\n",
    "artists = [artist.get_text() for artist in songs.select('span.chart-element__information__artist')]\n",
    "pos_lastw = [pos.get_text() for pos in songs.select('button.chart-element__wrapper > span.chart-element__metas > span.chart-element__meta.text--center.color--secondary.text--last')]\n",
    "pos_peak = [pos.get_text() for pos in songs.select('button.chart-element__wrapper > span.chart-element__metas > span.chart-element__meta.text--center.color--secondary.text--peak')]\n",
    "weeks_chart = [num.get_text() for num in songs.select('button.chart-element__wrapper > span.chart-element__metas > span.chart-element__meta.text--center.color--secondary.text--week')]"
   ]
  },
  {
   "cell_type": "code",
   "execution_count": 6,
   "metadata": {},
   "outputs": [],
   "source": [
    "HotSongs = pd.DataFrame({'Title':titles,\n",
    "                        'Artist':artists,\n",
    "                        'Position_last_week':pos_lastw,\n",
    "                        'Peak position':pos_peak,\n",
    "                        'Weeks on chart':weeks_chart\n",
    "                        })"
   ]
  },
  {
   "cell_type": "code",
   "execution_count": 7,
   "metadata": {
    "collapsed": true
   },
   "outputs": [
    {
     "data": {
      "text/html": [
       "<div>\n",
       "<style scoped>\n",
       "    .dataframe tbody tr th:only-of-type {\n",
       "        vertical-align: middle;\n",
       "    }\n",
       "\n",
       "    .dataframe tbody tr th {\n",
       "        vertical-align: top;\n",
       "    }\n",
       "\n",
       "    .dataframe thead th {\n",
       "        text-align: right;\n",
       "    }\n",
       "</style>\n",
       "<table border=\"1\" class=\"dataframe\">\n",
       "  <thead>\n",
       "    <tr style=\"text-align: right;\">\n",
       "      <th></th>\n",
       "      <th>Title</th>\n",
       "      <th>Artist</th>\n",
       "      <th>Position_last_week</th>\n",
       "      <th>Peak position</th>\n",
       "      <th>Weeks on chart</th>\n",
       "    </tr>\n",
       "  </thead>\n",
       "  <tbody>\n",
       "    <tr>\n",
       "      <th>0</th>\n",
       "      <td>Positions</td>\n",
       "      <td>Ariana Grande</td>\n",
       "      <td>-</td>\n",
       "      <td>1</td>\n",
       "      <td>1</td>\n",
       "    </tr>\n",
       "    <tr>\n",
       "      <th>1</th>\n",
       "      <td>Forever After All</td>\n",
       "      <td>Luke Combs</td>\n",
       "      <td>-</td>\n",
       "      <td>2</td>\n",
       "      <td>1</td>\n",
       "    </tr>\n",
       "    <tr>\n",
       "      <th>2</th>\n",
       "      <td>Mood</td>\n",
       "      <td>24kGoldn Featuring iann dior</td>\n",
       "      <td>1</td>\n",
       "      <td>1</td>\n",
       "      <td>12</td>\n",
       "    </tr>\n",
       "    <tr>\n",
       "      <th>3</th>\n",
       "      <td>Laugh Now Cry Later</td>\n",
       "      <td>Drake Featuring Lil Durk</td>\n",
       "      <td>3</td>\n",
       "      <td>2</td>\n",
       "      <td>11</td>\n",
       "    </tr>\n",
       "    <tr>\n",
       "      <th>4</th>\n",
       "      <td>Blinding Lights</td>\n",
       "      <td>The Weeknd</td>\n",
       "      <td>4</td>\n",
       "      <td>1</td>\n",
       "      <td>48</td>\n",
       "    </tr>\n",
       "    <tr>\n",
       "      <th>...</th>\n",
       "      <td>...</td>\n",
       "      <td>...</td>\n",
       "      <td>...</td>\n",
       "      <td>...</td>\n",
       "      <td>...</td>\n",
       "    </tr>\n",
       "    <tr>\n",
       "      <th>95</th>\n",
       "      <td>Cardigan</td>\n",
       "      <td>Taylor Swift</td>\n",
       "      <td>88</td>\n",
       "      <td>1</td>\n",
       "      <td>14</td>\n",
       "    </tr>\n",
       "    <tr>\n",
       "      <th>96</th>\n",
       "      <td>Forget Me Too</td>\n",
       "      <td>Machine Gun Kelly &amp; Halsey</td>\n",
       "      <td>-</td>\n",
       "      <td>44</td>\n",
       "      <td>3</td>\n",
       "    </tr>\n",
       "    <tr>\n",
       "      <th>97</th>\n",
       "      <td>La Toxica</td>\n",
       "      <td>Farruko</td>\n",
       "      <td>-</td>\n",
       "      <td>98</td>\n",
       "      <td>1</td>\n",
       "    </tr>\n",
       "    <tr>\n",
       "      <th>98</th>\n",
       "      <td>Head &amp; Heart</td>\n",
       "      <td>Joel Corry X MNEK</td>\n",
       "      <td>-</td>\n",
       "      <td>99</td>\n",
       "      <td>1</td>\n",
       "    </tr>\n",
       "    <tr>\n",
       "      <th>99</th>\n",
       "      <td>Wine, Beer, Whiskey</td>\n",
       "      <td>Little Big Town</td>\n",
       "      <td>-</td>\n",
       "      <td>100</td>\n",
       "      <td>1</td>\n",
       "    </tr>\n",
       "  </tbody>\n",
       "</table>\n",
       "<p>100 rows × 5 columns</p>\n",
       "</div>"
      ],
      "text/plain": [
       "                  Title                        Artist Position_last_week  \\\n",
       "0             Positions                 Ariana Grande                  -   \n",
       "1     Forever After All                    Luke Combs                  -   \n",
       "2                  Mood  24kGoldn Featuring iann dior                  1   \n",
       "3   Laugh Now Cry Later      Drake Featuring Lil Durk                  3   \n",
       "4       Blinding Lights                    The Weeknd                  4   \n",
       "..                  ...                           ...                ...   \n",
       "95             Cardigan                  Taylor Swift                 88   \n",
       "96        Forget Me Too    Machine Gun Kelly & Halsey                  -   \n",
       "97            La Toxica                       Farruko                  -   \n",
       "98         Head & Heart             Joel Corry X MNEK                  -   \n",
       "99  Wine, Beer, Whiskey               Little Big Town                  -   \n",
       "\n",
       "   Peak position Weeks on chart  \n",
       "0              1              1  \n",
       "1              2              1  \n",
       "2              1             12  \n",
       "3              2             11  \n",
       "4              1             48  \n",
       "..           ...            ...  \n",
       "95             1             14  \n",
       "96            44              3  \n",
       "97            98              1  \n",
       "98            99              1  \n",
       "99           100              1  \n",
       "\n",
       "[100 rows x 5 columns]"
      ]
     },
     "execution_count": 7,
     "metadata": {},
     "output_type": "execute_result"
    }
   ],
   "source": [
    "HotSongs"
   ]
  },
  {
   "cell_type": "markdown",
   "metadata": {},
   "source": [
    "### Spotify database"
   ]
  },
  {
   "cell_type": "code",
   "execution_count": 7,
   "metadata": {},
   "outputs": [],
   "source": [
    "auth_manager = SpotifyClientCredentials(client_id = '4866ccb02dce4a65929ec41e128015fb',\n",
    "                        client_secret = '47fce7898b0d4a33bc672a3d714960bd')\n",
    "sp = spotipy.Spotify(auth_manager = auth_manager)"
   ]
  },
  {
   "cell_type": "code",
   "execution_count": 8,
   "metadata": {},
   "outputs": [],
   "source": [
    "url = 'https://experiencias.planplanner.com/blog/mejores-listas-de-spotify/'\n",
    "response = requests.get(url)\n",
    "sp_songs = BeautifulSoup(response.content,'html.parser')"
   ]
  },
  {
   "cell_type": "code",
   "execution_count": 9,
   "metadata": {},
   "outputs": [],
   "source": [
    "url = 'https://www.elgrupoinformatico.com/noticias/listas-spotify-que-debes-escuchar-t76967.html'\n",
    "response = requests.get(url)\n",
    "sp_songs2 = BeautifulSoup(response.content,'html.parser')"
   ]
  },
  {
   "cell_type": "code",
   "execution_count": 10,
   "metadata": {},
   "outputs": [],
   "source": [
    "links_sp = [pl['href'] for pl in sp_songs.select('div.article-body-container > div > ul > li > strong > a')]\n",
    "links_sp = links_sp + [pl['href'] for pl in sp_songs2.select('div.news-text.entry-content > ol > li > a')]"
   ]
  },
  {
   "cell_type": "code",
   "execution_count": 11,
   "metadata": {
    "collapsed": true
   },
   "outputs": [
    {
     "name": "stdout",
     "output_type": "stream",
     "text": [
      "Link: 1 done\n",
      "Link: 2 done\n"
     ]
    },
    {
     "name": "stderr",
     "output_type": "stream",
     "text": [
      "HTTP Error for GET to https://api.spotify.com/v1/playlists/39lgopuFqqWDdGfu9fFaxx/tracks returned 404 due to Not found.\n",
      "HTTP Error for GET to https://api.spotify.com/v1/playlists/5RmnNrgcLG0XiBNefslJqD/tracks returned 404 due to Not found.\n"
     ]
    },
    {
     "name": "stdout",
     "output_type": "stream",
     "text": [
      "Link: 3 done\n",
      "Link: 4 done\n",
      "Link: 5 done\n",
      "Link: 6 done\n",
      "Link: 7 done\n",
      "Link: 8 done\n",
      "Link: 9 done\n",
      "Link: 10 done\n"
     ]
    },
    {
     "name": "stderr",
     "output_type": "stream",
     "text": [
      "HTTP Error for GET to https://api.spotify.com/v1/playlists/2h3brXofctHhpUhOY1IGLx/tracks returned 404 due to Not found.\n"
     ]
    },
    {
     "name": "stdout",
     "output_type": "stream",
     "text": [
      "Link: 11 done\n",
      "Link: 12 done\n",
      "Link: 13 done\n"
     ]
    },
    {
     "name": "stderr",
     "output_type": "stream",
     "text": [
      "HTTP Error for GET to https://api.spotify.com/v1/search returned 400 due to No search query\n",
      "HTTP Error for GET to https://api.spotify.com/v1/playlists/3pQiNhRGHeQ2q3eU6Wo0Rb/tracks returned 404 due to Not found.\n"
     ]
    },
    {
     "name": "stdout",
     "output_type": "stream",
     "text": [
      "Link: 14 done\n",
      "Link: 15 done\n",
      "Link: 16 done\n",
      "Link: 17 done\n",
      "Link: 18 done\n"
     ]
    },
    {
     "name": "stderr",
     "output_type": "stream",
     "text": [
      "HTTP Error for GET to https://api.spotify.com/v1/playlists/3N3Mv00FqkNaSaZt9vGRJc/tracks returned 404 due to Not found.\n",
      "HTTP Error for GET to https://api.spotify.com/v1/playlists/22Ybg9jpHgb5v4t1GyywJ1/tracks returned 404 due to Not found.\n"
     ]
    },
    {
     "name": "stdout",
     "output_type": "stream",
     "text": [
      "Link: 19 done\n",
      "Link: 20 done\n",
      "Link: 21 done\n",
      "Link: 22 done\n",
      "Link: 23 done\n",
      "Link: 24 done\n",
      "Link: 25 done\n",
      "Link: 26 done\n",
      "Link: 27 done\n",
      "Link: 28 done\n",
      "Link: 29 done\n",
      "Link: 30 done\n",
      "Link: 31 done\n",
      "Link: 32 done\n",
      "Link: 33 done\n",
      "Link: 34 done\n",
      "Link: 35 done\n",
      "Link: 36 done\n",
      "Link: 37 done\n",
      "Link: 38 done\n",
      "Link: 39 done\n",
      "Link: 40 done\n",
      "Link: 41 done\n",
      "Link: 42 done\n",
      "Link: 43 done\n",
      "Link: 44 done\n",
      "Link: 45 done\n",
      "Link: 46 done\n",
      "Link: 47 done\n",
      "Link: 48 done\n",
      "Link: 49 done\n",
      "Link: 50 done\n",
      "Link: 51 done\n",
      "Link: 52 done\n",
      "Link: 53 done\n",
      "Link: 54 done\n",
      "Link: 55 done\n",
      "Link: 56 done\n",
      "Link: 57 done\n",
      "Link: 58 done\n",
      "Link: 59 done\n",
      "Link: 60 done\n",
      "Link: 61 done\n",
      "Link: 62 done\n",
      "Link: 63 done\n",
      "Link: 64 done\n",
      "Link: 65 done\n",
      "Link: 66 done\n",
      "Link: 67 done\n",
      "Link: 68 done\n",
      "Link: 69 done\n",
      "Link: 70 done\n",
      "Link: 71 done\n",
      "Link: 72 done\n"
     ]
    },
    {
     "name": "stderr",
     "output_type": "stream",
     "text": [
      "HTTP Error for GET to https://api.spotify.com/v1/playlists/4DKVq5RO78uwIshroSpc0f%3Fsi%3DetWB5RlqQ1a3J8fH5mbfuw/tracks returned 404 due to Invalid playlist Id\n"
     ]
    },
    {
     "name": "stdout",
     "output_type": "stream",
     "text": [
      "Link: 73 done\n",
      "Link: 74 done\n"
     ]
    },
    {
     "name": "stderr",
     "output_type": "stream",
     "text": [
      "HTTP Error for GET to https://api.spotify.com/v1/playlists/5KdY4jjfofy6kIjV1rx7KN%3Fsi%3D0gAKnYNbQQeFiNOdt4B3qg/tracks returned 404 due to Invalid playlist Id\n"
     ]
    },
    {
     "name": "stdout",
     "output_type": "stream",
     "text": [
      "Link: 75 done\n",
      "Link: 76 done\n",
      "Link: 77 done\n"
     ]
    },
    {
     "name": "stderr",
     "output_type": "stream",
     "text": [
      "Expected id of type playlist but found type embed.spotify.com https://embed.spotify.com/?uri=spotify%3Auser%3Anikewomen%3Aplaylist%3A680vdVFuapmes1Zz757k8X&view=coverart\n",
      "HTTP Error for GET to https://api.spotify.com/v1/playlists//tracks returned 404 due to Invalid playlist Id\n"
     ]
    },
    {
     "name": "stdout",
     "output_type": "stream",
     "text": [
      "Link: 78 done\n",
      "Link: 79 done\n",
      "Link: 80 done\n",
      "Link: 81 done\n",
      "Link: 82 done\n",
      "Link: 83 done\n",
      "Link: 84 done\n",
      "Link: 85 done\n",
      "Link: 86 done\n",
      "Link: 87 done\n",
      "Link: 88 done\n",
      "Link: 89 done\n",
      "Link: 90 done\n",
      "Link: 91 done\n",
      "Link: 92 done\n",
      "Link: 93 done\n",
      "Link: 94 done\n",
      "Link: 95 done\n",
      "Link: 96 done\n",
      "Link: 97 done\n"
     ]
    }
   ],
   "source": [
    "songs_uri = []\n",
    "songs_name = []\n",
    "songs_artists = []\n",
    "songs_urls = []\n",
    "counter = 0\n",
    "for link in links_sp:\n",
    "    try:\n",
    "        if 'playlist' in link:\n",
    "            query = sp.playlist_tracks(link)\n",
    "        elif 'album' in link:\n",
    "            query = sp.album_tracks(link)\n",
    "        lvl0_uri = []\n",
    "        lvl0_name = []\n",
    "        lvl0_artists = []\n",
    "        lvl0_urls = []\n",
    "        for item in query['items']:\n",
    "            lvl1_uri = []\n",
    "            lvl1_name = []\n",
    "            lvl1_artists = []\n",
    "            lvl1_urls = []\n",
    "            for participant in item['track']['artists']:\n",
    "                artist = sp.search(participant['name'],50)\n",
    "                lvl2_uri = []\n",
    "                lvl2_name = []\n",
    "                lvl2_artists = []\n",
    "                lvl2_urls = []\n",
    "                for itm in artist['tracks']['items']:\n",
    "                    if itm['uri'] not in lvl1_uri and itm['uri'] not in lvl0_uri and itm['uri'] not in songs_uri:\n",
    "                        lvl2_uri.append(itm['uri'])\n",
    "                        lvl2_name.append(itm['name'])\n",
    "                        lvl2_urls.append(itm['external_urls'])\n",
    "                        arts = []\n",
    "                        for a in itm['artists']:\n",
    "                            arts.append(a['name'])\n",
    "                        lvl2_artists.append(arts)\n",
    "                lvl1_uri = lvl1_uri + lvl2_uri\n",
    "                lvl1_name = lvl1_name + lvl2_name\n",
    "                lvl1_artists = lvl1_artists + lvl2_artists\n",
    "                lvl1_urls = lvl1_urls + lvl2_urls\n",
    "            lvl0_uri = lvl0_uri + lvl1_uri\n",
    "            lvl0_name = lvl0_name + lvl1_name\n",
    "            lvl0_artists = lvl0_artists + lvl1_artists\n",
    "            lvl0_urls = lvl0_urls + lvl1_urls\n",
    "        songs_uri = songs_uri + lvl0_uri\n",
    "        songs_name = songs_name + lvl0_name\n",
    "        songs_artists = songs_artists + lvl0_artists\n",
    "        songs_urls = songs_urls + lvl0_urls\n",
    "        counter = counter+1\n",
    "        print('Link: '+str(counter)+' done')\n",
    "    except:\n",
    "        counter = counter+1\n",
    "        print('Link: '+str(counter)+' done')"
   ]
  },
  {
   "cell_type": "code",
   "execution_count": 12,
   "metadata": {},
   "outputs": [],
   "source": [
    "Spotify = pd.DataFrame({'Name':songs_name,\n",
    "                       'Artists':songs_artists,\n",
    "                       'URLS':songs_urls,\n",
    "                       'URI':songs_uri\n",
    "                       })"
   ]
  },
  {
   "cell_type": "code",
   "execution_count": 15,
   "metadata": {},
   "outputs": [
    {
     "data": {
      "text/html": [
       "<div>\n",
       "<style scoped>\n",
       "    .dataframe tbody tr th:only-of-type {\n",
       "        vertical-align: middle;\n",
       "    }\n",
       "\n",
       "    .dataframe tbody tr th {\n",
       "        vertical-align: top;\n",
       "    }\n",
       "\n",
       "    .dataframe thead th {\n",
       "        text-align: right;\n",
       "    }\n",
       "</style>\n",
       "<table border=\"1\" class=\"dataframe\">\n",
       "  <thead>\n",
       "    <tr style=\"text-align: right;\">\n",
       "      <th></th>\n",
       "      <th>Name</th>\n",
       "      <th>Artists</th>\n",
       "      <th>URLS</th>\n",
       "      <th>URI</th>\n",
       "    </tr>\n",
       "  </thead>\n",
       "  <tbody>\n",
       "    <tr>\n",
       "      <th>0</th>\n",
       "      <td>La Jeepeta - Remix</td>\n",
       "      <td>[Nio Garcia, Anuel AA, Myke Towers, Brray, Jua...</td>\n",
       "      <td>{'spotify': 'https://open.spotify.com/track/1m...</td>\n",
       "      <td>spotify:track:1mohfLaTJtB2RplHLQVM70</td>\n",
       "    </tr>\n",
       "    <tr>\n",
       "      <th>1</th>\n",
       "      <td>Te Boté - Remix</td>\n",
       "      <td>[Nio Garcia, Casper Magico, Bad Bunny, Darell,...</td>\n",
       "      <td>{'spotify': 'https://open.spotify.com/track/3V...</td>\n",
       "      <td>spotify:track:3V8UKqhEK5zBkBb6d6ub8i</td>\n",
       "    </tr>\n",
       "    <tr>\n",
       "      <th>2</th>\n",
       "      <td>La Jeepeta - Remix</td>\n",
       "      <td>[Nio Garcia, Anuel AA, Myke Towers, Brray, Jua...</td>\n",
       "      <td>{'spotify': 'https://open.spotify.com/track/6b...</td>\n",
       "      <td>spotify:track:6bvfJf4KjonPMuPfGfy3S2</td>\n",
       "    </tr>\n",
       "    <tr>\n",
       "      <th>3</th>\n",
       "      <td>Mírame - Remix</td>\n",
       "      <td>[Nio Garcia, Rauw Alejandro, Lenny Tavárez, My...</td>\n",
       "      <td>{'spotify': 'https://open.spotify.com/track/53...</td>\n",
       "      <td>spotify:track:53uKGbcMjEc2gIWbfmvpdS</td>\n",
       "    </tr>\n",
       "    <tr>\n",
       "      <th>4</th>\n",
       "      <td>La Jeepeta</td>\n",
       "      <td>[Nio Garcia, Brray, Juanka]</td>\n",
       "      <td>{'spotify': 'https://open.spotify.com/track/4R...</td>\n",
       "      <td>spotify:track:4RaWbMItxVbuUExNkFsITP</td>\n",
       "    </tr>\n",
       "    <tr>\n",
       "      <th>...</th>\n",
       "      <td>...</td>\n",
       "      <td>...</td>\n",
       "      <td>...</td>\n",
       "      <td>...</td>\n",
       "    </tr>\n",
       "    <tr>\n",
       "      <th>178625</th>\n",
       "      <td>4:30AM (Apparently They Were Travelling Abroad)</td>\n",
       "      <td>[Roger Waters]</td>\n",
       "      <td>{'spotify': 'https://open.spotify.com/track/4X...</td>\n",
       "      <td>spotify:track:4XmXp9QYEXNloFDNpuAVCt</td>\n",
       "    </tr>\n",
       "    <tr>\n",
       "      <th>178626</th>\n",
       "      <td>Love Story</td>\n",
       "      <td>[Marcus Rogers]</td>\n",
       "      <td>{'spotify': 'https://open.spotify.com/track/0t...</td>\n",
       "      <td>spotify:track:0tnzuoBLKhIapskglh5yNw</td>\n",
       "    </tr>\n",
       "    <tr>\n",
       "      <th>178627</th>\n",
       "      <td>When We Were Young</td>\n",
       "      <td>[Roger Waters]</td>\n",
       "      <td>{'spotify': 'https://open.spotify.com/track/7f...</td>\n",
       "      <td>spotify:track:7fnlgHtdKjy7qJZHesC3OA</td>\n",
       "    </tr>\n",
       "    <tr>\n",
       "      <th>178628</th>\n",
       "      <td>Broken Bones</td>\n",
       "      <td>[Roger Waters]</td>\n",
       "      <td>{'spotify': 'https://open.spotify.com/track/7A...</td>\n",
       "      <td>spotify:track:7AqnBdqID3vQHTsqZQdjUh</td>\n",
       "    </tr>\n",
       "    <tr>\n",
       "      <th>178629</th>\n",
       "      <td>4:33AM (Running Shoes)</td>\n",
       "      <td>[Roger Waters]</td>\n",
       "      <td>{'spotify': 'https://open.spotify.com/track/1q...</td>\n",
       "      <td>spotify:track:1qzwTTQRBJcQ1FKitWMb9K</td>\n",
       "    </tr>\n",
       "  </tbody>\n",
       "</table>\n",
       "<p>178630 rows × 4 columns</p>\n",
       "</div>"
      ],
      "text/plain": [
       "                                                   Name  \\\n",
       "0                                    La Jeepeta - Remix   \n",
       "1                                       Te Boté - Remix   \n",
       "2                                    La Jeepeta - Remix   \n",
       "3                                        Mírame - Remix   \n",
       "4                                            La Jeepeta   \n",
       "...                                                 ...   \n",
       "178625  4:30AM (Apparently They Were Travelling Abroad)   \n",
       "178626                                       Love Story   \n",
       "178627                               When We Were Young   \n",
       "178628                                     Broken Bones   \n",
       "178629                           4:33AM (Running Shoes)   \n",
       "\n",
       "                                                  Artists  \\\n",
       "0       [Nio Garcia, Anuel AA, Myke Towers, Brray, Jua...   \n",
       "1       [Nio Garcia, Casper Magico, Bad Bunny, Darell,...   \n",
       "2       [Nio Garcia, Anuel AA, Myke Towers, Brray, Jua...   \n",
       "3       [Nio Garcia, Rauw Alejandro, Lenny Tavárez, My...   \n",
       "4                             [Nio Garcia, Brray, Juanka]   \n",
       "...                                                   ...   \n",
       "178625                                     [Roger Waters]   \n",
       "178626                                    [Marcus Rogers]   \n",
       "178627                                     [Roger Waters]   \n",
       "178628                                     [Roger Waters]   \n",
       "178629                                     [Roger Waters]   \n",
       "\n",
       "                                                     URLS  \\\n",
       "0       {'spotify': 'https://open.spotify.com/track/1m...   \n",
       "1       {'spotify': 'https://open.spotify.com/track/3V...   \n",
       "2       {'spotify': 'https://open.spotify.com/track/6b...   \n",
       "3       {'spotify': 'https://open.spotify.com/track/53...   \n",
       "4       {'spotify': 'https://open.spotify.com/track/4R...   \n",
       "...                                                   ...   \n",
       "178625  {'spotify': 'https://open.spotify.com/track/4X...   \n",
       "178626  {'spotify': 'https://open.spotify.com/track/0t...   \n",
       "178627  {'spotify': 'https://open.spotify.com/track/7f...   \n",
       "178628  {'spotify': 'https://open.spotify.com/track/7A...   \n",
       "178629  {'spotify': 'https://open.spotify.com/track/1q...   \n",
       "\n",
       "                                         URI  \n",
       "0       spotify:track:1mohfLaTJtB2RplHLQVM70  \n",
       "1       spotify:track:3V8UKqhEK5zBkBb6d6ub8i  \n",
       "2       spotify:track:6bvfJf4KjonPMuPfGfy3S2  \n",
       "3       spotify:track:53uKGbcMjEc2gIWbfmvpdS  \n",
       "4       spotify:track:4RaWbMItxVbuUExNkFsITP  \n",
       "...                                      ...  \n",
       "178625  spotify:track:4XmXp9QYEXNloFDNpuAVCt  \n",
       "178626  spotify:track:0tnzuoBLKhIapskglh5yNw  \n",
       "178627  spotify:track:7fnlgHtdKjy7qJZHesC3OA  \n",
       "178628  spotify:track:7AqnBdqID3vQHTsqZQdjUh  \n",
       "178629  spotify:track:1qzwTTQRBJcQ1FKitWMb9K  \n",
       "\n",
       "[178630 rows x 4 columns]"
      ]
     },
     "execution_count": 15,
     "metadata": {},
     "output_type": "execute_result"
    }
   ],
   "source": [
    "Spotify"
   ]
  },
  {
   "cell_type": "code",
   "execution_count": 17,
   "metadata": {},
   "outputs": [],
   "source": [
    "uri_matrix = []\n",
    "aud_features = []\n",
    "for i in range(int(len(songs_uri)/100)):\n",
    "    if i == int(len(songs_uri)/100):\n",
    "        uri_matrix.append(songs_uri[i*100:])\n",
    "    else:\n",
    "        uri_matrix.append(songs_uri[i*100:(i+1)*100])"
   ]
  },
  {
   "cell_type": "code",
   "execution_count": 18,
   "metadata": {},
   "outputs": [],
   "source": [
    "for uris in uri_matrix:\n",
    "    query = sp.audio_features(uris)\n",
    "    aud_features = aud_features + query"
   ]
  },
  {
   "cell_type": "code",
   "execution_count": 19,
   "metadata": {},
   "outputs": [],
   "source": [
    "songs_uri_af = []\n",
    "danceability = []\n",
    "energy = []\n",
    "key = []\n",
    "loudness = []\n",
    "mode = []\n",
    "speechiness = []\n",
    "acousticness = []\n",
    "instrumentalness = []\n",
    "liveness = []\n",
    "valence = []\n",
    "tempo = []\n",
    "for track in aud_features:\n",
    "    try:\n",
    "        songs_uri_af.append(track['uri'])\n",
    "        danceability.append(track['danceability'])\n",
    "        energy.append(track['energy'])\n",
    "        key.append(track['key'])\n",
    "        loudness.append(track['loudness'])\n",
    "        mode.append(track['mode'])\n",
    "        speechiness.append(track['speechiness'])\n",
    "        acousticness.append(track['acousticness'])\n",
    "        instrumentalness.append(track['instrumentalness'])\n",
    "        liveness.append(track['liveness'])\n",
    "        valence.append(track['valence'])\n",
    "        tempo.append(track['tempo'])\n",
    "    except TypeError:\n",
    "        songs_uri_af.append(np.nan)\n",
    "        danceability.append(np.nan)\n",
    "        energy.append(np.nan)\n",
    "        key.append(np.nan)\n",
    "        loudness.append(np.nan)\n",
    "        mode.append(np.nan)\n",
    "        speechiness.append(np.nan)\n",
    "        acousticness.append(np.nan)\n",
    "        instrumentalness.append(np.nan)\n",
    "        liveness.append(np.nan)\n",
    "        valence.append(np.nan)\n",
    "        tempo.append(np.nan)"
   ]
  },
  {
   "cell_type": "code",
   "execution_count": 20,
   "metadata": {},
   "outputs": [],
   "source": [
    "AudioFeatures = pd.DataFrame({'URI':songs_uri_af,\n",
    "                 'Dance':danceability,\n",
    "                 'Energy' : energy,\n",
    "                 'Key': key,\n",
    "                 'Loudness':loudness,\n",
    "                 'Mode': mode,\n",
    "                 'Speech':speechiness,\n",
    "                 'Acoustic':acousticness,\n",
    "                 'Instrumental':instrumentalness,\n",
    "                 'Liveness':liveness,\n",
    "                 'Valence':valence,\n",
    "                 'Tempo': tempo\n",
    "                })"
   ]
  },
  {
   "cell_type": "code",
   "execution_count": 21,
   "metadata": {},
   "outputs": [],
   "source": [
    "GeneralDF = Spotify.merge(AudioFeatures,'right','URI')\n",
    "GeneralDF.dropna(how = 'all',inplace = True)"
   ]
  },
  {
   "cell_type": "markdown",
   "metadata": {},
   "source": [
    "#### Clustering"
   ]
  },
  {
   "cell_type": "code",
   "execution_count": 22,
   "metadata": {},
   "outputs": [],
   "source": [
    "SongsFeatures = GeneralDF[['Dance','Energy','Speech','Acoustic','Instrumental','Liveness','Valence']]"
   ]
  },
  {
   "cell_type": "code",
   "execution_count": 23,
   "metadata": {},
   "outputs": [],
   "source": [
    "from sklearn.preprocessing import StandardScaler\n",
    "from sklearn.cluster import KMeans"
   ]
  },
  {
   "cell_type": "code",
   "execution_count": 24,
   "metadata": {},
   "outputs": [],
   "source": [
    "scaler = StandardScaler()"
   ]
  },
  {
   "cell_type": "code",
   "execution_count": 25,
   "metadata": {},
   "outputs": [],
   "source": [
    "Scaled_SF = scaler.fit_transform(SongsFeatures)"
   ]
  },
  {
   "cell_type": "code",
   "execution_count": 26,
   "metadata": {},
   "outputs": [
    {
     "data": {
      "text/plain": [
       "KMeans(random_state=1234)"
      ]
     },
     "execution_count": 26,
     "metadata": {},
     "output_type": "execute_result"
    }
   ],
   "source": [
    "kmeans = KMeans(n_clusters = 8, random_state = 1234)\n",
    "kmeans.fit(Scaled_SF)"
   ]
  },
  {
   "cell_type": "code",
   "execution_count": 27,
   "metadata": {},
   "outputs": [],
   "source": [
    "clusters = kmeans.predict(Scaled_SF)"
   ]
  },
  {
   "cell_type": "code",
   "execution_count": 28,
   "metadata": {
    "scrolled": true
   },
   "outputs": [],
   "source": [
    "GeneralDF['Cluster'] = clusters"
   ]
  },
  {
   "cell_type": "markdown",
   "metadata": {},
   "source": [
    "## Recommender Pipeline"
   ]
  },
  {
   "cell_type": "code",
   "execution_count": 39,
   "metadata": {},
   "outputs": [],
   "source": [
    "def recommend(k_means,sc):\n",
    "    song = input('Write your favourite song: \\n')\n",
    "    if song.lower() in HotSongs['Title'].str.lower().values:\n",
    "        print('I recommend you to listen the following song: '+random.choice(HotSongs['Title']))\n",
    "#    elif song.lower() in GeneralDF['Name'].str.lower().values:\n",
    "#        clust = GeneralDF.get(GeneralDF['Name'].str.lower().isin([song.lower()]))['cluster']\n",
    "#        print('I would recommend you to listen the following song: '+random.choice(GeneralDF[GeneralDF['cluster'] == clust.values[0]]['Name'].values))\n",
    "    else:\n",
    "        query = sp.search(song,1)\n",
    "        if len(query['tracks']['items']) !=0: \n",
    "            input_uri = query['tracks']['items'][0]['uri']\n",
    "            input_aud_feat = sp.audio_features(input_uri)\n",
    "            s_danceability = []\n",
    "            s_energy = []\n",
    "            s_speechiness = []\n",
    "            s_acousticness = []\n",
    "            s_instrumentalness = []\n",
    "            s_liveness = []\n",
    "            s_valence = []\n",
    "            try:\n",
    "                s_danceability.append(input_aud_feat[0]['danceability'])\n",
    "                s_energy.append(input_aud_feat[0]['energy'])\n",
    "                s_speechiness.append(input_aud_feat[0]['speechiness'])\n",
    "                s_acousticness.append(input_aud_feat[0]['acousticness'])\n",
    "                s_instrumentalness.append(input_aud_feat[0]['instrumentalness'])\n",
    "                s_liveness.append(input_aud_feat[0]['liveness'])\n",
    "                s_valence.append(input_aud_feat[0]['valence'])\n",
    "                SongAudioFeatures = pd.DataFrame({'Dance':s_danceability,\n",
    "                                                  'Energy' : s_energy,\n",
    "                                                  'Speech':s_speechiness,\n",
    "                                                  'Acoustic':s_acousticness,\n",
    "                                                  'Instrumental':s_instrumentalness,\n",
    "                                                  'Liveness':s_liveness,\n",
    "                                                  'Valence':s_valence\n",
    "                                                  })\n",
    "                Scaled_SAF = sc.fit_transform(SongAudioFeatures)\n",
    "                s_cluster = k_means.predict(Scaled_SAF)\n",
    "                rec_song_uri = random.choice(GeneralDF[GeneralDF['Cluster'] == s_cluster[0]]['URI'].values)\n",
    "                rec_song_name = GeneralDF[GeneralDF['URI'] == rec_song_uri]['Name'].values[0]\n",
    "                rec_song_url = GeneralDF[GeneralDF['URI'] == rec_song_uri]['URLS'].values[0]['spotify']\n",
    "                print('I recommend you to listen the following song: '+ rec_song_name)\n",
    "                print(rec_song_url)\n",
    "            except TypeError:\n",
    "                print('No information of the song has been found')\n",
    "        else:\n",
    "            print(\"The introduced song can't be identified\")"
   ]
  },
  {
   "cell_type": "code",
   "execution_count": 43,
   "metadata": {},
   "outputs": [
    {
     "name": "stdout",
     "output_type": "stream",
     "text": [
      "Write your favourite song: \n",
      "Despacito\n",
      "I recommend you to listen the following song: Better Days\n",
      "https://open.spotify.com/track/7F1HMamEZk1JOjNjQAZDTF\n"
     ]
    }
   ],
   "source": [
    "recommend(kmeans,scaler)"
   ]
  }
 ],
 "metadata": {
  "kernelspec": {
   "display_name": "Python 3",
   "language": "python",
   "name": "python3"
  },
  "language_info": {
   "codemirror_mode": {
    "name": "ipython",
    "version": 3
   },
   "file_extension": ".py",
   "mimetype": "text/x-python",
   "name": "python",
   "nbconvert_exporter": "python",
   "pygments_lexer": "ipython3",
   "version": "3.8.3"
  }
 },
 "nbformat": 4,
 "nbformat_minor": 4
}
